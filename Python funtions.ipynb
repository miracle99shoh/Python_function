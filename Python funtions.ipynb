{
 "cells": [
  {
   "cell_type": "markdown",
   "id": "58f819df",
   "metadata": {},
   "source": [
    "Creating the function that sums up the squared values of a, b, c"
   ]
  },
  {
   "cell_type": "code",
   "execution_count": 1,
   "id": "14e49119",
   "metadata": {},
   "outputs": [
    {
     "name": "stdout",
     "output_type": "stream",
     "text": [
      "54\n"
     ]
    }
   ],
   "source": [
    "def square(x):\n",
    "    y = x ** 2\n",
    "    return y\n",
    "\n",
    "def sum_of_square(x,y,z):\n",
    "    a = square(x)\n",
    "    b = square(y)\n",
    "    c = square(z)\n",
    "    return a+b+c\n",
    "\n",
    "q = 2    #I added another q,w,e so they can be changed to any numbers\n",
    "w = -5\n",
    "e = 5\n",
    "result = sum_of_square(q, w, e)\n",
    "print(result)"
   ]
  },
  {
   "cell_type": "markdown",
   "id": "783a1b81",
   "metadata": {},
   "source": [
    "The function to sum up the square root of numbers"
   ]
  },
  {
   "cell_type": "code",
   "execution_count": 2,
   "id": "d0909e05",
   "metadata": {},
   "outputs": [
    {
     "name": "stdout",
     "output_type": "stream",
     "text": [
      "30.0\n"
     ]
    }
   ],
   "source": [
    "def square_root(x):\n",
    "    y = x ** 0.5\n",
    "    return y\n",
    "\n",
    "def sum_of_square_root(a, b, c, d):\n",
    "    x = square_root(a)\n",
    "    y = square_root(b)\n",
    "    z = square_root(c)\n",
    "    k = square_root(d)\n",
    "    return x+y+z+k\n",
    "q = 16\n",
    "w = 25\n",
    "e = 100\n",
    "r = 121\n",
    "result = sum_of_square_root(q, w, e, r)\n",
    "print(result)"
   ]
  },
  {
   "cell_type": "markdown",
   "id": "e5df6047",
   "metadata": {},
   "source": [
    "Codes to get the sum of the odd numbers within 1000 in 3 different ways"
   ]
  },
  {
   "cell_type": "code",
   "execution_count": 3,
   "id": "11ef987c",
   "metadata": {},
   "outputs": [
    {
     "name": "stdout",
     "output_type": "stream",
     "text": [
      "250000\n",
      "250000\n",
      "250000\n"
     ]
    }
   ],
   "source": [
    "# N1\n",
    "sum = 0\n",
    "for n in range(1,1001,2):\n",
    "    sum += n\n",
    "print(sum)\n",
    "\n",
    "# N2\n",
    "sum = 0\n",
    "n = 1\n",
    "while n < 1000:\n",
    "    if n%2==1: #separating the odd numbers\n",
    "        sum += n\n",
    "    n = n + 1\n",
    "print(sum)\n",
    "        \n",
    "# N3\n",
    "sum = 0\n",
    "for i in range(1000):\n",
    "    if i%2==1:\n",
    "        sum += i\n",
    "print(sum)"
   ]
  },
  {
   "cell_type": "code",
   "execution_count": null,
   "id": "03f275e6",
   "metadata": {},
   "outputs": [],
   "source": []
  }
 ],
 "metadata": {
  "kernelspec": {
   "display_name": "Python 3 (ipykernel)",
   "language": "python",
   "name": "python3"
  },
  "language_info": {
   "codemirror_mode": {
    "name": "ipython",
    "version": 3
   },
   "file_extension": ".py",
   "mimetype": "text/x-python",
   "name": "python",
   "nbconvert_exporter": "python",
   "pygments_lexer": "ipython3",
   "version": "3.10.9"
  }
 },
 "nbformat": 4,
 "nbformat_minor": 5
}
